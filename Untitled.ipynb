{
 "cells": [
  {
   "cell_type": "code",
   "execution_count": 1,
   "metadata": {},
   "outputs": [],
   "source": [
    "from getpass import getpass\n",
    "from qiskit import QuantumRegister, ClassicalRegister, QuantumCircuit, execute\n",
    "from quantuminspire.qiskit import QI"
   ]
  },
  {
   "cell_type": "code",
   "execution_count": 2,
   "metadata": {},
   "outputs": [],
   "source": [
    "def get_authentication():\n",
    "    \"\"\"Gets the authentication for connecting to the\n",
    "       Quantum Inspire API.\n",
    "    \"\"\"\n",
    "    print('Enter email:')\n",
    "    email = input()\n",
    "    print('Enter password')\n",
    "    password = getpass()\n",
    "    return email, password"
   ]
  },
  {
   "cell_type": "code",
   "execution_count": 3,
   "metadata": {},
   "outputs": [
    {
     "name": "stdout",
     "output_type": "stream",
     "text": [
      "Enter email:\n",
      "oslowik@cft.edu.pl\n",
      "Enter password\n",
      "········\n"
     ]
    }
   ],
   "source": [
    "if __name__ == '__main__':\n",
    "    if 'authentication' not in vars().keys():\n",
    "        authentication = get_authentication()\n",
    "    QI.set_authentication_details(*authentication)\n",
    "    qi_backend = QI.get_backend('QX single-node simulator')"
   ]
  },
  {
   "cell_type": "code",
   "execution_count": 4,
   "metadata": {},
   "outputs": [
    {
     "data": {
      "image/png": "[encoded data removed]",
      "text/plain": [
       "<Figure size 280.178x325.08 with 1 Axes>"
      ]
     },
     "execution_count": 4,
     "metadata": {},
     "output_type": "execute_result"
    }
   ],
   "source": [
    "qr = QuantumRegister(2)\n",
    "qr2 = QuantumRegister(2)\n",
    "\n",
    "cr = ClassicalRegister(2)\n",
    "\n",
    "qc = QuantumCircuit(qr, qr2, cr)\n",
    "\n",
    "qc.h(qr[0])\n",
    "qc.cx(qr2[0], qr2[1])\n",
    "\n",
    "qc.measure(qr,cr)\n",
    "\n",
    "qc.draw(output='mpl')"
   ]
  },
  {
   "cell_type": "code",
   "execution_count": 5,
   "metadata": {},
   "outputs": [],
   "source": [
    "qi_job = execute(qc, backend=qi_backend, shots=256)"
   ]
  },
  {
   "cell_type": "code",
   "execution_count": 6,
   "metadata": {},
   "outputs": [],
   "source": [
    "qi_result = qi_job.result()"
   ]
  },
  {
   "cell_type": "code",
   "execution_count": 11,
   "metadata": {
    "scrolled": true
   },
   "outputs": [
    {
     "name": "stdout",
     "output_type": "stream",
     "text": [
      "\n",
      " State \t Counts\n",
      "00\t130\n",
      "01\t126\n"
     ]
    },
    {
     "data": {
      "text/plain": [
       "[None, None]"
      ]
     },
     "execution_count": 11,
     "metadata": {},
     "output_type": "execute_result"
    }
   ],
   "source": [
    "histogram = qi_result.get_counts(qc)\n",
    "print('\\n State \\t Counts')\n",
    "[print('{0}\\t{1}'.format(state, counts)) for state, counts in histogram.items()]"
   ]
  },
  {
   "cell_type": "code",
   "execution_count": null,
   "metadata": {},
   "outputs": [],
   "source": []
  }
 ],
 "metadata": {
  "kernelspec": {
   "display_name": "Python 3",
   "language": "python",
   "name": "python3"
  },
  "language_info": {
   "codemirror_mode": {
    "name": "ipython",
    "version": 3
   },
   "file_extension": ".py",
   "mimetype": "text/x-python",
   "name": "python",
   "nbconvert_exporter": "python",
   "pygments_lexer": "ipython3",
   "version": "3.6.13"
  }
 },
 "nbformat": 4,
 "nbformat_minor": 4
}
