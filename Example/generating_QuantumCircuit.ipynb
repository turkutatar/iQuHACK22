{
 "cells": [
  {
   "cell_type": "markdown",
   "metadata": {},
   "source": [
    "# Example\n",
    "\n",
    "### Generating a five-qubit code circuit with artificially injected single-qubit error based on user input.\n",
    "\n",
    "Note: We have 5 data qubits: $D_0$, $D_1$, $D_2$, $D_3$, $D_4$."
   ]
  },
  {
   "cell_type": "code",
   "execution_count": null,
   "metadata": {},
   "outputs": [],
   "source": [
    "import sys\n",
    "sys.path.append(\"..\") # Adds higher directory to python modules path.\n",
    "import quantum_backend as qb"
   ]
  },
  {
   "cell_type": "markdown",
   "metadata": {},
   "source": [
    "Example with user input = $X_2$."
   ]
  },
  {
   "cell_type": "code",
   "execution_count": null,
   "metadata": {},
   "outputs": [],
   "source": [
    "example_input = \"X2\" # Pauli-X error on data qubit 2.\n",
    "qc = qb.generate_QuantumCircuit(example_input)\n",
    "qc.draw(\"latex\", scale=1.0)"
   ]
  },
  {
   "cell_type": "markdown",
   "metadata": {},
   "source": [
    "Example with user input = $Z_4$."
   ]
  },
  {
   "cell_type": "code",
   "execution_count": null,
   "metadata": {},
   "outputs": [],
   "source": [
    "example_input = \"Z4\" # Pauli-Z error on data qubit 4.\n",
    "qc = qb.generate_QuantumCircuit(example_input)\n",
    "qc.draw(\"latex\", scale=1.0)"
   ]
  }
 ],
 "metadata": {
  "interpreter": {
   "hash": "20c4516ae7d4517ff9f8a9598f2c1c5502849f7ba74b9e3f83401d8995394d91"
  },
  "kernelspec": {
   "display_name": "Python 3.9.9 64-bit",
   "language": "python",
   "name": "python3"
  },
  "language_info": {
   "codemirror_mode": {
    "name": "ipython",
    "version": 3
   },
   "file_extension": ".py",
   "mimetype": "text/x-python",
   "name": "python",
   "nbconvert_exporter": "python",
   "pygments_lexer": "ipython3",
   "version": "3.9.9"
  },
  "orig_nbformat": 4
 },
 "nbformat": 4,
 "nbformat_minor": 2
}
