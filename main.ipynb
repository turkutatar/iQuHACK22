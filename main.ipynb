{
 "cells": [
  {
   "cell_type": "code",
   "execution_count": null,
   "metadata": {},
   "outputs": [],
   "source": [
    "import numpy as np\n",
    "import matplotlib.pyplot as plt\n",
    "import Auxilliary_functions_Bingo2.helper_functions as hf\n",
    "import Auxilliary_functions_Bingo2.quantum_backend as qb"
   ]
  },
  {
   "cell_type": "markdown",
   "metadata": {},
   "source": [
    "### The error model which we are using is $\\Lambda=\\sum^{15}_{i=0} p_i E_i\\rho E_i^\\dagger$, which is acting on the 5 data qubits, and $p_i$ is such that $\\sum_{i=0}^{15} p_i=1$. \n",
    "\n",
    "The probabilities $p_i$ should remain the same because we are using the same hardware throughout the analysis. This is reflected in the line `   np.random.seed(0)` below.\n",
    "\n",
    "### Note that the five-qubit code has 16 possible syndromes, each mapping to a distinct single-qubit error.\n",
    "\n",
    "### We then can generate a 4-by-4 heatmap, seeing how probable each syndrome is."
   ]
  },
  {
   "cell_type": "code",
   "execution_count": null,
   "metadata": {},
   "outputs": [],
   "source": [
    "if __name__ == '__main__':\n",
    "    hf.clear()\n",
    "    backend = qb.get_QI_backend(backend_type=\"QX single-node simulator\") # Authenticates using a cred.txt containing your Quantum-Inspire account email and password.\n",
    "    np.random.seed(0) # fixed seed.\n",
    "    p = np.random.rand(16)\n",
    "    p = p/np.sum(p)\n",
    "    shots = 1024\n",
    "    default_valid_inputs = [\"I\",\"X0\",\"Y0\",\"Z0\",\"X1\",\"Y1\",\"Z1\",\"X2\",\"Y2\",\"Z2\",\"X3\",\"Y3\",\"Z3\",\"X4\",\"Y4\",\"Z4\"]\n",
    "\n",
    "    counts = np.zeros(16)\n",
    "    for i,elem in enumerate(default_valid_inputs):\n",
    "        qc = qb.generate_QuantumCircuit(elem)\n",
    "        qc_job = qb.execute_QuantumCircuit(qc,backend=backend,shots=int(shots*p[i]))\n",
    "        if i == 0:\n",
    "            temp = qc_job.result().get_counts()\n",
    "            result_dict = temp\n",
    "        else:\n",
    "            temp = qc_job.result().get_counts()\n",
    "            result_dict.update(temp)\n",
    "        key = max(temp, key=temp.get)\n",
    "        result_dict[key+f'|{elem}'] = result_dict.pop(key)\n",
    "\n",
    "    syndrome = np.array(list(result_dict.keys())) # Convert dictionary keys to numpy array.\n",
    "    sortarg = np.argsort(np.array([int(x[:4],2) for x in syndrome])) # Indices that would sort an array.\n",
    "    syndrome = syndrome[sortarg].reshape([4,4])\n",
    "    counts = np.fromiter(result_dict.values(), dtype=float) # Convert dictionary values to numpy array.\n",
    "    counts = counts[sortarg].reshape([4,4])\n",
    "    \n",
    "    fig, ax = plt.subplots() # https://matplotlib.org/stable/gallery/images_contours_and_fields/image_annotated_heatmap.html\n",
    "    im = ax.imshow(counts)\n",
    "    for i in range(4):\n",
    "        for j in range(4):\n",
    "            text = ax.text(j, i, syndrome[i,j],\n",
    "                        ha=\"center\", va=\"center\", color=\"k\")\n",
    "    ax.set_title(\"Syndrome Heatmap\")\n",
    "    fig.tight_layout()\n",
    "    fig.colorbar(im)\n",
    "    print(f\"\\n🎉🥳 {hf.OKGREEN}Syndrome heatmap generated! Time to rearrange the grid!{hf.ENDC} 🎉🥳\")\n",
    "    plt.show()"
   ]
  },
  {
   "cell_type": "markdown",
   "metadata": {},
   "source": [
    "### We swap ancillas $a_1$ and $a_2$ and regenerate the heatmap."
   ]
  },
  {
   "cell_type": "code",
   "execution_count": null,
   "metadata": {},
   "outputs": [],
   "source": [
    "if __name__ == '__main__':\n",
    "    hf.clear()\n",
    "    backend = qb.get_QI_backend(backend_type=\"QX single-node simulator\") # Authenticates using a cred.txt containing your Quantum-Inspire account email and password.\n",
    "    np.random.seed(0) # fixed seed.\n",
    "    p = np.random.rand(16)\n",
    "    p = p/np.sum(p)\n",
    "    shots = 1024\n",
    "    default_valid_inputs = [\"I\",\"X0\",\"Y0\",\"Z0\",\"X1\",\"Y1\",\"Z1\",\"X2\",\"Y2\",\"Z2\",\"X3\",\"Y3\",\"Z3\",\"X4\",\"Y4\",\"Z4\"]\n",
    "\n",
    "    counts = np.zeros(16)\n",
    "    for i,elem in enumerate(default_valid_inputs):\n",
    "        qc = qb.generate_QuantumCircuit_with_swap(elem)\n",
    "        qc_job = qb.execute_QuantumCircuit(qc,backend=backend,shots=int(shots*p[i]))\n",
    "        if i == 0:\n",
    "            temp = qc_job.result().get_counts()\n",
    "            result_dict = temp\n",
    "        else:\n",
    "            temp = qc_job.result().get_counts()\n",
    "            result_dict.update(temp)\n",
    "        key = max(temp, key=temp.get)\n",
    "        result_dict[key+f'|{elem}'] = result_dict.pop(key)\n",
    "\n",
    "    syndrome = np.array(list(result_dict.keys())) # Convert dictionary keys to numpy array.\n",
    "    sortarg = np.argsort(np.array([int(x[:4],2) for x in syndrome])) # Indices that would sort an array.\n",
    "    syndrome = syndrome[sortarg].reshape([4,4])\n",
    "    counts = np.fromiter(result_dict.values(), dtype=float) # Convert dictionary values to numpy array.\n",
    "    counts = counts[sortarg].reshape([4,4])\n",
    "\n",
    "    fig, ax = plt.subplots() # https://matplotlib.org/stable/gallery/images_contours_and_fields/image_annotated_heatmap.html\n",
    "    im = ax.imshow(counts)\n",
    "    for i in range(4):\n",
    "        for j in range(4):\n",
    "            text = ax.text(j, i, syndrome[i,j],\n",
    "                        ha=\"center\", va=\"center\", color=\"k\")\n",
    "    ax.set_title(\"Syndrome Heatmap\")\n",
    "    fig.tight_layout()\n",
    "    fig.colorbar(im)\n",
    "    print(f\"\\n{hf.OKGREEN}We swapped ancilla 1 and ancilla 2 and regenerated the heatmap.{hf.ENDC}\")\n",
    "    plt.show()"
   ]
  },
  {
   "cell_type": "markdown",
   "metadata": {},
   "source": [
    "### We can do this multiple times and we can analyse the resulting heatmaps how we can prioritise to physically arrange the noisy qubits in such a way we can mitigate error."
   ]
  }
 ],
 "metadata": {
  "interpreter": {
   "hash": "20c4516ae7d4517ff9f8a9598f2c1c5502849f7ba74b9e3f83401d8995394d91"
  },
  "kernelspec": {
   "display_name": "Python 3.9.9 64-bit",
   "language": "python",
   "name": "python3"
  },
  "language_info": {
   "codemirror_mode": {
    "name": "ipython",
    "version": 3
   },
   "file_extension": ".py",
   "mimetype": "text/x-python",
   "name": "python",
   "nbconvert_exporter": "python",
   "pygments_lexer": "ipython3",
   "version": "3.9.9"
  },
  "orig_nbformat": 4
 },
 "nbformat": 4,
 "nbformat_minor": 2
}
